{
  "nbformat": 4,
  "nbformat_minor": 0,
  "metadata": {
    "colab": {
      "name": "ncov_AppliedMath.ipynb",
      "provenance": [],
      "collapsed_sections": [],
      "authorship_tag": "ABX9TyNL2dzHm/0QotFPNKGm/GtZ",
      "include_colab_link": true
    },
    "kernelspec": {
      "name": "python3",
      "display_name": "Python 3"
    },
    "language_info": {
      "name": "python"
    }
  },
  "cells": [
    {
      "cell_type": "markdown",
      "metadata": {
        "id": "view-in-github",
        "colab_type": "text"
      },
      "source": [
        "<a href=\"https://colab.research.google.com/github/hvhq/appcomponents/blob/main/ncov_AppliedMath.ipynb\" target=\"_parent\"><img src=\"https://colab.research.google.com/assets/colab-badge.svg\" alt=\"Open In Colab\"/></a>"
      ]
    },
    {
      "cell_type": "code",
      "metadata": {
        "id": "ZPyYtX3zYsyK"
      },
      "source": [
        "import requests as rqs\n",
        "import pandas as pd\n",
        "import numpy as np\n",
        "import csv\n",
        "from datetime import date, timedelta\n",
        "import random\n",
        "import matplotlib.pyplot as plt\n",
        "\n",
        "firstDay = \"2021-04-27\"\n",
        "lastDay = \"2021-07-05\""
      ],
      "execution_count": 146,
      "outputs": []
    },
    {
      "cell_type": "code",
      "metadata": {
        "colab": {
          "base_uri": "https://localhost:8080/"
        },
        "id": "6jVXmr8chHye",
        "outputId": "a425691c-f3ce-4754-8895-31d238733e0b"
      },
      "source": [
        "response = rqs.get(\"https://ncov.vncdc.gov.vn/v1/vietnam/by-current?start_time=\"+firstDay+\"&end_time=\"+lastDay)\n",
        "\n",
        "responseJsonList = response.json()\n",
        "table = [[\"ma_tinh\", \"tinh\",\"ngay\",\"so_ca\"]]\n",
        "countSpreadRate = 0\n",
        "sumSpreadRate = 0.0\n",
        "for province in responseJsonList:\n",
        "  col0 = province[\"id\"]\n",
        "  col1 = province[\"tinh\"]\n",
        "  data = province[\"data\"]\n",
        "  prevInfected = 1\n",
        "  for datarow in data:\n",
        "    row = [col0, col1, datarow, data[datarow]]\n",
        "    table.insert(len(table), row)\n",
        "    #calc spread rate\n",
        "    if data[datarow] / prevInfected>0.01:\n",
        "      countSpreadRate += 1\n",
        "      sumSpreadRate += data[datarow] / prevInfected\n",
        "    prevInfected = data[datarow]\n",
        "    if prevInfected == 0:\n",
        "      prevInfected = 1\n",
        "\n",
        "with open(\"covid-province-data-daily.csv\",  \"w\", newline=\"\") as f:\n",
        "    writer = csv.writer(f)\n",
        "    writer.writerows(table)\n",
        "\n",
        "#average spread rate\n",
        "sumSpreadRate = sumSpreadRate/countSpreadRate\n",
        "print(sumSpreadRate)\n"
      ],
      "execution_count": 166,
      "outputs": [
        {
          "output_type": "stream",
          "text": [
            "2.2913051482816846\n"
          ],
          "name": "stdout"
        }
      ]
    },
    {
      "cell_type": "code",
      "metadata": {
        "id": "_X8z-XNdpnl9"
      },
      "source": [
        "iataCode = np.array([[\"Bà Rịa - Vũng Tàu\", \"VCS\"], \n",
        "            [\"Bình Định\", \"UIH\"], \n",
        "            [\"Cà Mau\", \"CAH\"],\n",
        "            [\"Cần Thơ\", \"VCA\"],\n",
        "            [\"Đắk Lắk\", \"BMV\"],\n",
        "            [\"Đà Nẵng\", \"DAD\"],\n",
        "            [\"Điện Biên\", \"DIN\"],\n",
        "            [\"Gia Lai\", \"PXU\"],\n",
        "            [\"Hải Phòng\", \"HPH\"],\n",
        "            [\"Hà Nội\", \"HAN\"],\n",
        "            [\"TP. Hồ Chí Minh\", \"SGN\"],\n",
        "            [\"Khánh Hòa\", \"CXR\"],\n",
        "            [\"Kiên Giang\", \"VKG\"],\n",
        "            [\"Kiên Giang\", \"PQC\"],\n",
        "            [\"Lâm Đồng\", \"DLI\"],\n",
        "            [\"Nghệ An\", \"VII\"],\n",
        "            [\"Phú Yên\", \"TBB\"],\n",
        "            [\"Quảng Bình\", \"VDH\"],\n",
        "            [\"Quảng Nam\", \"VCL\"],\n",
        "            [\"Thanh Hóa\", \"THD\"],\n",
        "            [\"Thừa Thiên-Huế\", \"HUI\"]])"
      ],
      "execution_count": 5,
      "outputs": []
    },
    {
      "cell_type": "code",
      "metadata": {
        "id": "S8zf2hXYQUgP"
      },
      "source": [
        "\n",
        "sdate = date(2021, 4, 27)   # start date\n",
        "edate = date(2021, 7, 5)   # end date\n",
        "\n",
        "delta = edate - sdate       # as timedelta\n",
        "airport = iataCode[0][1]\n",
        "table=[[\"day\", \"sairport\", \"eairport\",\"gate\",\"scheduled_time\",\"flight_no\", \"status\"]]\n",
        "for i in range(delta.days + 1):\n",
        "  day = sdate + timedelta(days=i)\n",
        "  print(\"getting data for day \"+str(day))\n",
        "  for j in range(len(iataCode)):\n",
        "    endPort = iataCode[j][1]\n",
        "    strGet = \"https://www.vietnamairport.vn/vi/action/flight_plan_filter?airport=&flight_date=\"+str(day)+\"&flight_no=&to_airport=\"+endPort+\"&carrier=\"\n",
        "    #print(strGet)\n",
        "    response = rqs.get(strGet)\n",
        "    response = response.json()\n",
        "    for responseRecord in response:\n",
        "      route = responseRecord[\"route\"]\n",
        "      sPort = route[:3]\n",
        "      ePort = route[4:]\n",
        "      if len(responseRecord[\"gate\"])!=0 and sPort in iataCode[:,1]:\n",
        "        row = [day,sPort, ePort, responseRecord[\"gate\"], responseRecord[\"scheduled_time\"], responseRecord[\"flight_no\"], responseRecord[\"status\"]]\n",
        "        table.insert(len(table), row)\n",
        "with open(\"flight-data-daily.csv\",  \"w\", newline=\"\") as f:\n",
        "    writer = csv.writer(f)\n",
        "    writer.writerows(table)"
      ],
      "execution_count": null,
      "outputs": []
    },
    {
      "cell_type": "code",
      "metadata": {
        "colab": {
          "resources": {
            "http://localhost:8080/nbextensions/google.colab/files.js": {
              "data": "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",
              "ok": true,
              "headers": [
                [
                  "content-type",
                  "application/javascript"
                ]
              ],
              "status": 200,
              "status_text": "OK"
            }
          },
          "base_uri": "https://localhost:8080/",
          "height": 291
        },
        "id": "4Ozz8TSJtpbr",
        "outputId": "cd2d76b8-5d78-4980-c7f8-e8618e2de0d8"
      },
      "source": [
        "from google.colab import files\n",
        "import csv\n",
        "\n",
        "#Load Data\n",
        "#Load flight data\n",
        "files.upload()\n",
        "with open('flight-data-daily.csv', newline='') as csvfile:\n",
        "    flights = list(csv.reader(csvfile))\n",
        "print(flights[0])\n",
        "print(flights[1])\n",
        "#Load population data\n",
        "files.upload()\n",
        "with open('danso2019.csv', newline='') as csvfile:\n",
        "    populations = list(csv.reader(csvfile))\n",
        "print(populations[0])\n",
        "print(populations[2])\n",
        "#Load covid data\n",
        "files.upload()\n",
        "with open('covid-province-data-daily.csv', newline='') as csvfile:\n",
        "    covid = list(csv.reader(csvfile))\n",
        "print(covid[0])\n",
        "print(covid[2])"
      ],
      "execution_count": 46,
      "outputs": [
        {
          "output_type": "display_data",
          "data": {
            "text/html": [
              "\n",
              "     <input type=\"file\" id=\"files-f3d9542b-413a-463e-8de5-62a7433bbd68\" name=\"files[]\" multiple disabled\n",
              "        style=\"border:none\" />\n",
              "     <output id=\"result-f3d9542b-413a-463e-8de5-62a7433bbd68\">\n",
              "      Upload widget is only available when the cell has been executed in the\n",
              "      current browser session. Please rerun this cell to enable.\n",
              "      </output>\n",
              "      <script src=\"/nbextensions/google.colab/files.js\"></script> "
            ],
            "text/plain": [
              "<IPython.core.display.HTML object>"
            ]
          },
          "metadata": {
            "tags": []
          }
        },
        {
          "output_type": "stream",
          "text": [
            "Saving flight-data-daily.csv to flight-data-daily (1).csv\n",
            "['day', 'sairport', 'eairport', 'gate', 'scheduled_time', 'flight_no', 'status', 'seats', 'fill_rate']\n",
            "['2021-04-27', 'PQC', 'VCA', '2', '10:00', 'QH2182', 'CLS', '124', '']\n"
          ],
          "name": "stdout"
        },
        {
          "output_type": "display_data",
          "data": {
            "text/html": [
              "\n",
              "     <input type=\"file\" id=\"files-b4c7b431-5681-4c9e-b4e2-e58b0e26a9fa\" name=\"files[]\" multiple disabled\n",
              "        style=\"border:none\" />\n",
              "     <output id=\"result-b4c7b431-5681-4c9e-b4e2-e58b0e26a9fa\">\n",
              "      Upload widget is only available when the cell has been executed in the\n",
              "      current browser session. Please rerun this cell to enable.\n",
              "      </output>\n",
              "      <script src=\"/nbextensions/google.colab/files.js\"></script> "
            ],
            "text/plain": [
              "<IPython.core.display.HTML object>"
            ]
          },
          "metadata": {
            "tags": []
          }
        },
        {
          "output_type": "stream",
          "text": [
            "Saving danso2019.csv to danso2019 (1).csv\n",
            "['tinh', 'dan_so', 'ma_vung', 'ten_vung']\n",
            "['Vĩnh Phúc', '1154,8', '1', 'Bắc Bộ']\n"
          ],
          "name": "stdout"
        },
        {
          "output_type": "display_data",
          "data": {
            "text/html": [
              "\n",
              "     <input type=\"file\" id=\"files-aeb5242a-3ec0-4fc0-be74-5b06b2d09b6e\" name=\"files[]\" multiple disabled\n",
              "        style=\"border:none\" />\n",
              "     <output id=\"result-aeb5242a-3ec0-4fc0-be74-5b06b2d09b6e\">\n",
              "      Upload widget is only available when the cell has been executed in the\n",
              "      current browser session. Please rerun this cell to enable.\n",
              "      </output>\n",
              "      <script src=\"/nbextensions/google.colab/files.js\"></script> "
            ],
            "text/plain": [
              "<IPython.core.display.HTML object>"
            ]
          },
          "metadata": {
            "tags": []
          }
        },
        {
          "output_type": "stream",
          "text": [
            "Saving covid-province-data-daily.csv to covid-province-data-daily.csv\n",
            "['tinh', 'dan_so', 'ma_vung', 'ten_vung']\n",
            "['Vĩnh Phúc', '1154,8', '1', 'Bắc Bộ']\n"
          ],
          "name": "stdout"
        }
      ]
    },
    {
      "cell_type": "code",
      "metadata": {
        "colab": {
          "resources": {
            "http://localhost:8080/nbextensions/google.colab/files.js": {
              "data": "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",
              "ok": true,
              "headers": [
                [
                  "content-type",
                  "application/javascript"
                ]
              ],
              "status": 200,
              "status_text": "OK"
            }
          },
          "base_uri": "https://localhost:8080/",
          "height": 108
        },
        "id": "hTjWb3HJHE6h",
        "outputId": "d3f4953b-ace0-46de-80d0-15b596900344"
      },
      "source": [
        "files.upload()\n",
        "with open('danso2019.csv', newline='') as csvfile:\n",
        "    populations = list(csv.reader(csvfile))\n",
        "print(populations[0])\n",
        "print(populations[2])"
      ],
      "execution_count": 70,
      "outputs": [
        {
          "output_type": "display_data",
          "data": {
            "text/html": [
              "\n",
              "     <input type=\"file\" id=\"files-4096aa4c-8ae0-47d7-b561-234336a2fd10\" name=\"files[]\" multiple disabled\n",
              "        style=\"border:none\" />\n",
              "     <output id=\"result-4096aa4c-8ae0-47d7-b561-234336a2fd10\">\n",
              "      Upload widget is only available when the cell has been executed in the\n",
              "      current browser session. Please rerun this cell to enable.\n",
              "      </output>\n",
              "      <script src=\"/nbextensions/google.colab/files.js\"></script> "
            ],
            "text/plain": [
              "<IPython.core.display.HTML object>"
            ]
          },
          "metadata": {
            "tags": []
          }
        },
        {
          "output_type": "stream",
          "text": [
            "Saving danso2019.csv to danso2019.csv\n",
            "['tinh', 'dan_so', 'ma_vung', 'ten_vung']\n",
            "['Vĩnh Phúc', '1154,8', '1', 'Bắc Bộ']\n"
          ],
          "name": "stdout"
        }
      ]
    },
    {
      "cell_type": "code",
      "metadata": {
        "colab": {
          "base_uri": "https://localhost:8080/"
        },
        "id": "vkfvqXpQ2pWU",
        "outputId": "3203b44e-3a6c-482b-a2ca-85ef1b606e6f"
      },
      "source": [
        "#Dictionary contain areaCode of province\n",
        "areaCodeDictionary = {}\n",
        "#Dan so cua 6 vung\n",
        "areaPopulation = np.array([0,0,0,0,0,0])\n",
        "print(len(populations))\n",
        "for row in range(1,len(populations)):\n",
        "  areaPopulation[int(populations[row][2]) - 1] += 1000 * float(populations[row][1].replace(\",\",\".\"))\n",
        "  areaCodeDictionary[populations[row][0]] = int(populations[row][2])\n",
        "print(\"Population 2019:\",areaPopulation)\n",
        "#calculate end of 2020 population, roughly 2021 population\n",
        "increaseRate = [1.33, 0.69, 0.69, 1.33, 2.57, 0.05]\n",
        "for areaCode in range(0, 6):\n",
        "  areaPopulation[areaCode] = areaPopulation[areaCode] * (1+increaseRate[areaCode]/100)\n",
        "print(\"Population 2020: \", areaPopulation)\n",
        "print(\"Vietnam population 2020 (calculated):\",sum(areaPopulation))\n",
        "print(\"Vietnam population end of 2020 (government stats):\", 97.58 , \"million\")\n",
        "print(\"So we can assume that in started months of year 2021,\\n\\t \"\n",
        "      +\"population has slightly increase from 97.58 million to 97.638 milion,\\n\\t \"\n",
        "      +\"so we can use that population for started months of 2021 (now) instead of 2020,\\n\\t\"\n",
        "      +\"the error can be tolerated\")\n",
        "#Theo uoc tinh cua tong cuc thong ke, cuoi nam 2020, dan so VietNam khoang 97.58 trieu nguoi\n",
        "#Điều này xác nhận tính toán của chúng ta là gần đúng 97.638, có thể chấp nhận"
      ],
      "execution_count": 147,
      "outputs": [
        {
          "output_type": "stream",
          "text": [
            "64\n",
            "Population 2019: [35189500 10932800  9287600  5861300 17930300 17282500]\n",
            "Population 2020:  [35657520 11008236  9351684  5939255 18391108 17291141]\n",
            "Vietnam population 2020 (calculated): 97638944\n",
            "Vietnam population end of 2020 (government stats): 97.58 million\n",
            "So we can assume that in started months of year 2021,\n",
            "\t population has slightly increase from 97.58 million to 97.638 milion,\n",
            "\t so we can use that population for started months of 2021 (now) instead of 2020,\n",
            "\tthe error can be tolerated\n"
          ],
          "name": "stdout"
        }
      ]
    },
    {
      "cell_type": "code",
      "metadata": {
        "id": "Vrh1GqtY5JKj"
      },
      "source": [
        "#Ước lượng lưu lượng di chuyển hằng ngày của 6 vùng, 2020\n",
        "#Nghien cuu VITRANSS 2, thuc hien 2010\n",
        "#https://openjicareport.jica.go.jp/pdf/12000063_04.pdf\n",
        "flow_passenger = np.array([[0, 31864, 5044, 4263, 24738, 3121], \n",
        "                  [31864, 0, 16183, 1965, 9950, 420],\n",
        "                  [5044, 16183, 0, 5969, 26005, 1816],\n",
        "                  [4263, 1965, 5969, 0, 4485, 934],\n",
        "                  [24738, 9950, 26005, 4485, 0, 127417],\n",
        "                  [3121, 420, 1816, 934, 127417, 0]])"
      ],
      "execution_count": 152,
      "outputs": []
    },
    {
      "cell_type": "code",
      "metadata": {
        "colab": {
          "base_uri": "https://localhost:8080/"
        },
        "id": "LjYixAVAaKbf",
        "outputId": "8793a039-e05d-4f9e-e108-78128c1a60b2"
      },
      "source": [
        "\n"
      ],
      "execution_count": 189,
      "outputs": [
        {
          "output_type": "stream",
          "text": [
            "Initial State\n",
            "S: [35653810 11008170  9350711  5939255 18390641 17290895]\n",
            "I: [871  10  23   0   7  48]\n",
            "R: [2839   56  950    0  460  198]\n"
          ],
          "name": "stdout"
        }
      ]
    },
    {
      "cell_type": "code",
      "metadata": {
        "colab": {
          "base_uri": "https://localhost:8080/",
          "height": 363
        },
        "id": "PI4s4w-1B6xV",
        "outputId": "c4af184e-5099-49ea-a6ef-d447e7732030"
      },
      "source": [
        "#initial state\n",
        "initialDay = \"2021-05-27\"\n",
        "#get recover number, include deaths\n",
        "S = np.array(areaPopulation)\n",
        "R = np.array([0,0,0,0,0,0])\n",
        "I = np.array([0,0,0,0,0,0])\n",
        "response = rqs.get(\"https://ncov.vncdc.gov.vn/v1/vietnam/province-type?start_time=\"+\"2019-05-01\"+\"&end_time=\"+initialDay).json()\n",
        "response = response['rows']\n",
        "for row in range(len(response)):\n",
        "  provinceName = response[row][\"tinh\"]\n",
        "  areaCode = areaCodeDictionary[provinceName]\n",
        "  R[areaCode - 1] += response[row][\"ca_khoi\"]+response[row][\"tu_vong\"]\n",
        "  I[areaCode - 1] += response[row][\"so_ca\"]\n",
        "  if response[row][\"so_ca\"] < response[row][\"ca_khoi\"]+response[row][\"tu_vong\"]:\n",
        "    print(response[row])\n",
        "S = S - I\n",
        "I = I - R\n",
        "print(\"Initial State\")\n",
        "print(\"S:\", S)\n",
        "print(\"I:\",I)\n",
        "print(\"R:\", R)\n",
        "s = np.divide(S, areaPopulation)\n",
        "i = np.divide(I, areaPopulation)\n",
        "r = np.divide(R, areaPopulation)\n",
        "\n",
        "\n",
        "\n",
        "#Graph:\n",
        "#Vertice data: SIR table\n",
        "#Edge weigth: flow_passenger\n",
        "\n",
        "#spread_rate (number of infected contacts that becoming infected)\n",
        "#https://blog.vinbigdata.org/tim-hieu-ve-mot-mo-hinh-du-bao-dich-covid-19-tu-vu-han/?fbclid=IwAR3c5YWqwc6u3KjYj5u0mQP5arDrN52EXgOF2ihTqe1zJ96zMQo-9twG53s\n",
        "spreadRate = 2.3\n",
        "#With our calculating, \n",
        "#       the spread rate of covid 19 in Vietnam from 2019 to 2021-07-05 is 2.3,\n",
        "#       but for credit purpose, we use 2.68\n",
        "\n",
        "#infected time is average in 14 day\n",
        "#https://thuvienphapluat.vn/van-ban/The-thao-Y-te/Quyet-dinh-1125-QD-BYT-2021-cham-soc-nguoi-benh-viem-duong-ho-hap-cap-do-vi-rut-SARS-CoV-2-464962.aspx\n",
        "#7 day to become severe illness, and 7 more day to recover\n",
        "#recover_rate (number of infected become recovered or death)\n",
        "recoverRate = 1/7\n",
        "\n",
        "Ss = np.array([S])\n",
        "Is = np.array([I])\n",
        "Rs = np.array([R])\n",
        "#for everyday calculate the change of SIR status in each region\n",
        "sdate = date(2021, 5, 27)   # start date\n",
        "edate = date(2021, 7, 5)   # end date\n",
        "delta = edate - sdate       # as timedelta\n",
        "for i in range(delta.days + 1):\n",
        "  day = sdate + timedelta(days=i)\n",
        "  #transmit passengers\n",
        "  for area_iter1 in range(5):\n",
        "    for area_iter2 in range(area_iter1+1, 6):\n",
        "      #probability of 1 people leaves the region area_iter1 and come to region area_iter2\n",
        "      onePersonProb = (flow_passenger[area_iter1, area_iter2]/2)/areaPopulation[area_iter1]\n",
        "      #count number leave region 1 and come to region 2\n",
        "      countILeave = np.random.binomial(I[area_iter1], onePersonProb)\n",
        "      countRLeave = np.random.binomial(R[area_iter1], onePersonProb)\n",
        "      #probability of 1 people leaves the region area_iter2 and come to region area_iter1\n",
        "      onePersonProb = (flow_passenger[area_iter1, area_iter2]/2)/areaPopulation[area_iter2]\n",
        "      #count number come to region 1 from region 2\n",
        "      countICome = np.random.binomial(I[area_iter2], onePersonProb)\n",
        "      countRCome = np.random.binomial(R[area_iter2], onePersonProb)\n",
        "      #arrived\n",
        "      I[area_iter1] += countICome - countILeave\n",
        "      I[area_iter2] += countILeave - countICome\n",
        "      R[area_iter1] += countRCome - countRLeave\n",
        "      R[area_iter2] += countRLeave - countRCome\n",
        "      S[area_iter1] = areaPopulation[area_iter1] - I[area_iter1] - R[area_iter1]\n",
        "      S[area_iter2] = areaPopulation[area_iter2] - I[area_iter2] - R[area_iter2]\n",
        "  #SIR evolution\n",
        "  #for each region\n",
        "  for area in range(6):\n",
        "    newInfected = spreadRate * S[area] / areaPopulation[area] * I[area]\n",
        "    recovered = recoverRate * I[area]\n",
        "    #update\n",
        "    R[area] += recovered\n",
        "    I[area] += newInfected - recovered\n",
        "    S[area] = areaPopulation[area] - I[area] - R[area]\n",
        "  #print(S)\n",
        "  Ss = np.insert(Ss, len(Ss), S, axis=0)\n",
        "  Is = np.insert(Is, len(Is), I, axis=0)\n",
        "  Rs = np.insert(Rs, len(Rs), R, axis=0)\n",
        "  #Ss = np.append(Ss, S)\n",
        "print(I)\n",
        "plt.plot(range((edate - sdate).days + 1+1),Ss[:,4])\n",
        "plt.plot(range((edate - sdate).days + 1+1),Is[:,4])\n",
        "plt.plot(range((edate - sdate).days + 1+1),Rs[:,4])\n",
        "plt.show()\n"
      ],
      "execution_count": 204,
      "outputs": [
        {
          "output_type": "stream",
          "text": [
            "Initial State\n",
            "S: [35653810 11008170  9350711  5939255 18390641 17290895]\n",
            "I: [871  10  23   0   7  48]\n",
            "R: [2839   56  950    0  460  198]\n",
            "[311131 139226 110706 109078 247366 204183]\n"
          ],
          "name": "stdout"
        },
        {
          "output_type": "display_data",
          "data": {
            "image/png": "[encoded data removed]",
            "text/plain": [
              "<Figure size 432x288 with 1 Axes>"
            ]
          },
          "metadata": {
            "tags": [],
            "needs_background": "light"
          }
        }
      ]
    },
    {
      "cell_type": "code",
      "metadata": {
        "colab": {
          "base_uri": "https://localhost:8080/",
          "height": 363
        },
        "id": "LRpWZSfbIZwG",
        "outputId": "c8b899a2-9b02-4cc3-b16c-9871456ed52e"
      },
      "source": [
        "#initial state\n",
        "initialDay = \"2021-05-27\"\n",
        "#get recover number, include deaths\n",
        "S = np.array(areaPopulation)\n",
        "R = np.array([0,0,0,0,0,0])\n",
        "I = np.array([0,0,0,0,0,0])\n",
        "response = rqs.get(\"https://ncov.vncdc.gov.vn/v1/vietnam/province-type?start_time=\"+\"2019-05-01\"+\"&end_time=\"+initialDay).json()\n",
        "response = response['rows']\n",
        "for row in range(len(response)):\n",
        "  provinceName = response[row][\"tinh\"]\n",
        "  areaCode = areaCodeDictionary[provinceName]\n",
        "  R[areaCode - 1] += response[row][\"ca_khoi\"]+response[row][\"tu_vong\"]\n",
        "  I[areaCode - 1] += response[row][\"so_ca\"]\n",
        "  if response[row][\"so_ca\"] < response[row][\"ca_khoi\"]+response[row][\"tu_vong\"]:\n",
        "    print(response[row])\n",
        "S = S - I\n",
        "I = I - R\n",
        "print(\"Initial State\")\n",
        "print(\"S:\", S)\n",
        "print(\"I:\",I)\n",
        "print(\"R:\", R)\n",
        "s = np.divide(S, areaPopulation)\n",
        "i = np.divide(I, areaPopulation)\n",
        "r = np.divide(R, areaPopulation)\n",
        "\n",
        "#Graph:\n",
        "#Vertice data: SIR table\n",
        "#Edge weigth: flow_passenger\n",
        "\n",
        "#spread_rate (number of infected contacts that becoming infected)\n",
        "#https://blog.vinbigdata.org/tim-hieu-ve-mot-mo-hinh-du-bao-dich-covid-19-tu-vu-han/?fbclid=IwAR3c5YWqwc6u3KjYj5u0mQP5arDrN52EXgOF2ihTqe1zJ96zMQo-9twG53s\n",
        "spreadRate = 2.3\n",
        "#With our calculating, \n",
        "#       the spread rate of covid 19 in Vietnam from 2019 to 2021-07-05 is 2.3,\n",
        "#       but for credit purpose, we use 2.68\n",
        "\n",
        "#infected time is average in 14 day\n",
        "#https://thuvienphapluat.vn/van-ban/The-thao-Y-te/Quyet-dinh-1125-QD-BYT-2021-cham-soc-nguoi-benh-viem-duong-ho-hap-cap-do-vi-rut-SARS-CoV-2-464962.aspx\n",
        "#7 day to become severe illness, and 7 more day to recover\n",
        "#recover_rate (number of infected become recovered or death)\n",
        "recoverRate = 1/7\n",
        "\n",
        "#time that a infected begin spread\n",
        "beginSpread = 5\n",
        "\n",
        "Ss = np.array([S])\n",
        "Is = np.array([I])\n",
        "Rs = np.array([R])\n",
        "#for everyday calculate the change of SIR status in each region\n",
        "sdate = date(2021, 5, 27)   # start date\n",
        "edate = date(2021, 7, 5)   # end date\n",
        "delta = edate - sdate       # as timedelta\n",
        "for i in range(delta.days + 1):\n",
        "  day = sdate + timedelta(days=i)\n",
        "  #transmit passengers\n",
        "  for area_iter1 in range(5):\n",
        "    for area_iter2 in range(area_iter1+1, 6):\n",
        "      #probability of 1 people leaves the region area_iter1 and come to region area_iter2\n",
        "      onePersonProb = (flow_passenger[area_iter1, area_iter2]/2)/areaPopulation[area_iter1]\n",
        "      #count number leave region 1 and come to region 2\n",
        "      countILeave = np.random.binomial(I[area_iter1], onePersonProb)\n",
        "      countRLeave = np.random.binomial(R[area_iter1], onePersonProb)\n",
        "      #probability of 1 people leaves the region area_iter2 and come to region area_iter1\n",
        "      onePersonProb = (flow_passenger[area_iter1, area_iter2]/2)/areaPopulation[area_iter2]\n",
        "      #count number come to region 1 from region 2\n",
        "      countICome = np.random.binomial(I[area_iter2], onePersonProb)\n",
        "      countRCome = np.random.binomial(R[area_iter2], onePersonProb)\n",
        "      #arrived\n",
        "      I[area_iter1] += countICome - countILeave\n",
        "      I[area_iter2] += countILeave - countICome\n",
        "      R[area_iter1] += countRCome - countRLeave\n",
        "      R[area_iter2] += countRLeave - countRCome\n",
        "      S[area_iter1] = areaPopulation[area_iter1] - I[area_iter1] - R[area_iter1]\n",
        "      S[area_iter2] = areaPopulation[area_iter2] - I[area_iter2] - R[area_iter2]\n",
        "  #SIR evolution\n",
        "  #for each region\n",
        "  for area in range(6):\n",
        "    if i < 5:\n",
        "      newInfected = 0\n",
        "      recovered = 0\n",
        "    else:\n",
        "      newInfected = spreadRate * S[area] / areaPopulation[area] * Is[i-5,area]\n",
        "      recovered = recoverRate * Is[i-5, area]\n",
        "    #update\n",
        "    R[area] += recovered\n",
        "    I[area] += newInfected - recovered\n",
        "    S[area] = areaPopulation[area] - I[area] - R[area]\n",
        "  #add to trace of SIR through time\n",
        "  Ss = np.insert(Ss, len(Ss), S, axis=0)\n",
        "  Is = np.insert(Is, len(Is), I, axis=0)\n",
        "  Rs = np.insert(Rs, len(Rs), R, axis=0)\n",
        "print(I)\n",
        "plt.plot(range((edate - sdate).days + 1+1),Ss[:,4])\n",
        "plt.plot(range((edate - sdate).days + 1+1),Is[:,4])\n",
        "plt.plot(range((edate - sdate).days + 1+1),Rs[:,4])\n",
        "plt.show()"
      ],
      "execution_count": 203,
      "outputs": [
        {
          "output_type": "stream",
          "text": [
            "Initial State\n",
            "S: [35653810 11008170  9350711  5939255 18390641 17290895]\n",
            "I: [871  10  23   0   7  48]\n",
            "R: [2839   56  950    0  460  198]\n",
            "[22842462  3199054  4671188   138788  3165982  9228807]\n"
          ],
          "name": "stdout"
        },
        {
          "output_type": "display_data",
          "data": {
            "image/png": "[encoded data removed]",
            "text/plain": [
              "<Figure size 432x288 with 1 Axes>"
            ]
          },
          "metadata": {
            "tags": [],
            "needs_background": "light"
          }
        }
      ]
    },
    {
      "cell_type": "code",
      "metadata": {
        "colab": {
          "base_uri": "https://localhost:8080/",
          "height": 377
        },
        "id": "tCzgF2dxOxBz",
        "outputId": "48d987b3-1cc4-4b42-c076-955c74f27ccc"
      },
      "source": [
        "#initial state\n",
        "initialDay = \"2021-05-27\"\n",
        "#get recover number, include deaths\n",
        "S = np.array(areaPopulation)\n",
        "R = np.array([0,0,0,0,0,0])\n",
        "I = np.array([0,0,0,0,0,0])\n",
        "response = rqs.get(\"https://ncov.vncdc.gov.vn/v1/vietnam/province-type?start_time=\"+\"2019-05-01\"+\"&end_time=\"+initialDay).json()\n",
        "response = response['rows']\n",
        "for row in range(len(response)):\n",
        "  provinceName = response[row][\"tinh\"]\n",
        "  areaCode = areaCodeDictionary[provinceName]\n",
        "  R[areaCode - 1] += response[row][\"ca_khoi\"]+response[row][\"tu_vong\"]\n",
        "  I[areaCode - 1] += response[row][\"so_ca\"]\n",
        "  if response[row][\"so_ca\"] < response[row][\"ca_khoi\"]+response[row][\"tu_vong\"]:\n",
        "    print(response[row])\n",
        "S = S - I\n",
        "I = I - R\n",
        "print(\"Initial State\")\n",
        "print(\"S:\", S)\n",
        "print(\"I:\",I)\n",
        "print(\"R:\", R)\n",
        "\n",
        "#Graph:\n",
        "#Vertice data: SIR table\n",
        "#Edge weigth: flow_passenger\n",
        "\n",
        "#spread_rate (number of infected contacts that becoming infected)\n",
        "#https://blog.vinbigdata.org/tim-hieu-ve-mot-mo-hinh-du-bao-dich-covid-19-tu-vu-han/?fbclid=IwAR3c5YWqwc6u3KjYj5u0mQP5arDrN52EXgOF2ihTqe1zJ96zMQo-9twG53s\n",
        "spreadRate = 2.3\n",
        "#With our calculating, \n",
        "#       the spread rate of covid 19 in Vietnam from 2019 to 2021-07-05 is 2.3,\n",
        "#       but for credit purpose, we use 2.68\n",
        "\n",
        "#infected time is average in 14 day\n",
        "#https://thuvienphapluat.vn/van-ban/The-thao-Y-te/Quyet-dinh-1125-QD-BYT-2021-cham-soc-nguoi-benh-viem-duong-ho-hap-cap-do-vi-rut-SARS-CoV-2-464962.aspx\n",
        "#7 day to become severe illness, and 7 more day to recover\n",
        "#recover_rate (number of infected become recovered or death)\n",
        "recoverRate = 1/14\n",
        "\n",
        "#time that a infected begin spread\n",
        "beginSpread = 5\n",
        "\n",
        "Ss = np.array([S])\n",
        "Is = np.array([I])\n",
        "Rs = np.array([R])\n",
        "#for everyday calculate the change of SIR status in each region\n",
        "sdate = date(2021, 5, 27)   # start date\n",
        "edate = date(2021, 7, 5)   # end date\n",
        "delta = edate - sdate       # as timedelta\n",
        "for i in range(delta.days + 1):\n",
        "  day = sdate + timedelta(days=i)\n",
        "  #transmit passengers\n",
        "  for area_iter1 in range(5):\n",
        "    for area_iter2 in range(area_iter1+1, 6):\n",
        "      #probability of 1 people leaves the region area_iter1 and come to region area_iter2\n",
        "      onePersonProb = (flow_passenger[area_iter1, area_iter2]/2)/areaPopulation[area_iter1]\n",
        "      #count number leave region 1 and come to region 2\n",
        "      countILeave = np.random.binomial(I[area_iter1], onePersonProb)\n",
        "      countRLeave = np.random.binomial(R[area_iter1], onePersonProb)\n",
        "      #probability of 1 people leaves the region area_iter2 and come to region area_iter1\n",
        "      onePersonProb = (flow_passenger[area_iter1, area_iter2]/2)/areaPopulation[area_iter2]\n",
        "      #count number come to region 1 from region 2\n",
        "      countICome = np.random.binomial(I[area_iter2], onePersonProb)\n",
        "      countRCome = np.random.binomial(R[area_iter2], onePersonProb)\n",
        "      #arrived\n",
        "      I[area_iter1] += countICome - countILeave\n",
        "      I[area_iter2] += countILeave - countICome\n",
        "      R[area_iter1] += countRCome - countRLeave\n",
        "      R[area_iter2] += countRLeave - countRCome\n",
        "      S[area_iter1] = areaPopulation[area_iter1] - I[area_iter1] - R[area_iter1]\n",
        "      S[area_iter2] = areaPopulation[area_iter2] - I[area_iter2] - R[area_iter2]\n",
        "  #SIR evolution\n",
        "  #for each region\n",
        "  for area in range(6):\n",
        "    if i < 5:\n",
        "      newInfected = 0\n",
        "      recovered = 0\n",
        "    else:\n",
        "      newInfected = spreadRate * S[area] / areaPopulation[area] * Is[i-5,area]\n",
        "      recovered = recoverRate * Is[i-5, area]\n",
        "    #update\n",
        "    R[area] += recovered\n",
        "    I[area] += newInfected - recovered\n",
        "    S[area] = areaPopulation[area] - I[area] - R[area]\n",
        "  #add to trace of SIR through time\n",
        "  Ss = np.insert(Ss, len(Ss), S, axis=0)\n",
        "  Is = np.insert(Is, len(Is), I, axis=0)\n",
        "  Rs = np.insert(Rs, len(Rs), R, axis=0)\n",
        "print(I)\n",
        "plt.plot(range((edate - sdate).days + 1+1),Ss[:,4], label=\"Suspected\")\n",
        "plt.plot(range((edate - sdate).days + 1+1),Is[:,4], label=\"Infected\")\n",
        "plt.plot(range((edate - sdate).days + 1+1),Rs[:,4], label=\"Recovered\")\n",
        "plt.xlabel(\"days from start\")\n",
        "plt.ylabel(\"number of people\")\n",
        "plt.legend()\n",
        "plt.show()"
      ],
      "execution_count": 207,
      "outputs": [
        {
          "output_type": "stream",
          "text": [
            "Initial State\n",
            "S: [35653810 11008170  9350711  5939255 18390641 17290895]\n",
            "I: [871  10  23   0   7  48]\n",
            "R: [2839   56  950    0  460  198]\n",
            "[28557673  3675532  5272794   236437  3844810 10207637]\n"
          ],
          "name": "stdout"
        },
        {
          "output_type": "display_data",
          "data": {
            "image/png": "[encoded data removed]",
            "text/plain": [
              "<Figure size 432x288 with 1 Axes>"
            ]
          },
          "metadata": {
            "tags": [],
            "needs_background": "light"
          }
        }
      ]
    },
    {
      "cell_type": "code",
      "metadata": {
        "colab": {
          "base_uri": "https://localhost:8080/",
          "height": 377
        },
        "id": "gRuwKkPjP_3Y",
        "outputId": "bcb77b04-6872-4aa8-9d1f-95a704699802"
      },
      "source": [
        "#initial state\n",
        "initialDay = \"2021-05-27\"\n",
        "#get recover number, include deaths\n",
        "S = np.array(areaPopulation)\n",
        "R = np.array([0,0,0,0,0,0])\n",
        "I = np.array([0,0,0,0,0,0])\n",
        "response = rqs.get(\"https://ncov.vncdc.gov.vn/v1/vietnam/province-type?start_time=\"+\"2019-05-01\"+\"&end_time=\"+initialDay).json()\n",
        "response = response['rows']\n",
        "for row in range(len(response)):\n",
        "  provinceName = response[row][\"tinh\"]\n",
        "  areaCode = areaCodeDictionary[provinceName]\n",
        "  R[areaCode - 1] += response[row][\"ca_khoi\"]+response[row][\"tu_vong\"]\n",
        "  I[areaCode - 1] += response[row][\"so_ca\"]\n",
        "  if response[row][\"so_ca\"] < response[row][\"ca_khoi\"]+response[row][\"tu_vong\"]:\n",
        "    print(response[row])\n",
        "S = S - I\n",
        "I = I - R\n",
        "print(\"Initial State\")\n",
        "print(\"S:\", S)\n",
        "print(\"I:\",I)\n",
        "print(\"R:\", R)\n",
        "\n",
        "#Graph:\n",
        "#Vertice data: SIR table\n",
        "#Edge weigth: flow_passenger\n",
        "\n",
        "#spread_rate (number of infected contacts that becoming infected)\n",
        "#https://blog.vinbigdata.org/tim-hieu-ve-mot-mo-hinh-du-bao-dich-covid-19-tu-vu-han/?fbclid=IwAR3c5YWqwc6u3KjYj5u0mQP5arDrN52EXgOF2ihTqe1zJ96zMQo-9twG53s\n",
        "spreadRate = 2.3\n",
        "#With our calculating, \n",
        "#       the spread rate of covid 19 in Vietnam from 2019 to 2021-07-05 is 2.3,\n",
        "#       but for credit purpose, we use 2.68\n",
        "\n",
        "#Average day detect a person infected\n",
        "detectDay = 5\n",
        "\n",
        "#infected time is average in 14 day\n",
        "#https://thuvienphapluat.vn/van-ban/The-thao-Y-te/Quyet-dinh-1125-QD-BYT-2021-cham-soc-nguoi-benh-viem-duong-ho-hap-cap-do-vi-rut-SARS-CoV-2-464962.aspx\n",
        "#7 day to become severe illness, and 7 more day to recover\n",
        "#recover_rate (number of infected become recovered or death)\n",
        "recoverRate = 1/14\n",
        "\n",
        "#time that a infected begin spread\n",
        "beginSpread = 2\n",
        "\n",
        "Ss = np.array([S])\n",
        "Is = np.array([I])\n",
        "Rs = np.array([R])\n",
        "NewInfecteds = np.array([I])\n",
        "#for everyday calculate the change of SIR status in each region\n",
        "sdate = date(2021, 5, 27)   # start date\n",
        "edate = date(2021, 7, 5)   # end date\n",
        "delta = edate - sdate       # as timedelta\n",
        "for i in range(delta.days + 1):\n",
        "  day = sdate + timedelta(days=i)\n",
        "  #transmit passengers\n",
        "  for area_iter1 in range(5):\n",
        "    for area_iter2 in range(area_iter1+1, 6):\n",
        "      #probability of 1 people leaves the region area_iter1 and come to region area_iter2\n",
        "      onePersonProb = (flow_passenger[area_iter1, area_iter2]/2)/areaPopulation[area_iter1]\n",
        "      #count number leave region 1 and come to region 2\n",
        "      if I[area_iter1] > 0:\n",
        "        countILeave = np.random.binomial(I[area_iter1], onePersonProb)\n",
        "      else:\n",
        "        countILeave = 0\n",
        "      countRLeave = np.random.binomial(R[area_iter1], onePersonProb)\n",
        "      #probability of 1 people leaves the region area_iter2 and come to region area_iter1\n",
        "      onePersonProb = (flow_passenger[area_iter1, area_iter2]/2)/areaPopulation[area_iter2]\n",
        "      #count number come to region 1 from region 2\n",
        "      if I[area_iter2] > 0:\n",
        "        countICome = np.random.binomial(I[area_iter2], onePersonProb)\n",
        "      else:\n",
        "        countICome = 0\n",
        "      countRCome = np.random.binomial(R[area_iter2], onePersonProb)\n",
        "      #arrived\n",
        "      I[area_iter1] += countICome - countILeave\n",
        "      I[area_iter2] += countILeave - countICome\n",
        "      R[area_iter1] += countRCome - countRLeave\n",
        "      R[area_iter2] += countRLeave - countRCome\n",
        "      S[area_iter1] = areaPopulation[area_iter1] - I[area_iter1] - R[area_iter1]\n",
        "      S[area_iter2] = areaPopulation[area_iter2] - I[area_iter2] - R[area_iter2]\n",
        "  #SIR evolution\n",
        "  #for each region\n",
        "  for area in range(6):\n",
        "    if i < beginSpread:\n",
        "      newInfected = 0\n",
        "      recovered = 0\n",
        "    elif i < detectDay:\n",
        "      newInfected = spreadRate * S[area] / areaPopulation[area] * (Is[i-beginSpread, area])\n",
        "      #newInfected = spreadRate * S[area] / areaPopulation[area] * Is[i-5,area]\n",
        "      recovered = recoverRate * Is[i, area]\n",
        "    else:\n",
        "      newInfected = spreadRate * S[area] / areaPopulation[area] * (Is[i-beginSpread, area]-Is[i-detectDay, area])\n",
        "      recovered = recoverRate * Is[i, area]\n",
        "    #update\n",
        "    R[area] += recovered\n",
        "    I[area] += newInfected - recovered\n",
        "    S[area] = areaPopulation[area] - I[area] - R[area]\n",
        "  #add to trace of SIR through time\n",
        "  Ss = np.insert(Ss, len(Ss), S, axis=0)\n",
        "  Is = np.insert(Is, len(Is), I, axis=0)\n",
        "  Rs = np.insert(Rs, len(Rs), R, axis=0)\n",
        "print(S)\n",
        "print(I)\n",
        "plt.plot(range((edate - sdate).days + 1+1),Ss[:,4], label=\"Suspected\")\n",
        "plt.plot(range((edate - sdate).days + 1+1),Is[:,4], label=\"Infected\")\n",
        "plt.plot(range((edate - sdate).days + 1+1),Rs[:,4], label=\"Recovered\")\n",
        "plt.xlabel(\"days from start\")\n",
        "plt.ylabel(\"number of people\")\n",
        "plt.legend()\n",
        "plt.show()"
      ],
      "execution_count": 215,
      "outputs": [
        {
          "output_type": "stream",
          "text": [
            "Initial State\n",
            "S: [35653810 11008170  9350711  5939255 18390641 17290895]\n",
            "I: [871  10  23   0   7  48]\n",
            "R: [2839   56  950    0  460  198]\n",
            "[9274817 4713773 3611696 3805998 8677925 6622473]\n"
          ],
          "name": "stdout"
        },
        {
          "output_type": "display_data",
          "data": {
            "image/png": "[encoded data removed]",
            "text/plain": [
              "<Figure size 432x288 with 1 Axes>"
            ]
          },
          "metadata": {
            "tags": [],
            "needs_background": "light"
          }
        }
      ]
    },
    {
      "cell_type": "code",
      "metadata": {
        "colab": {
          "base_uri": "https://localhost:8080/",
          "height": 1000
        },
        "id": "S7HYzKbGVnWd",
        "outputId": "7e3896d4-a801-4159-b3c8-242ffd0957f7"
      },
      "source": [
        "#initial state\n",
        "initialDay = \"2021-05-27\"\n",
        "#get recover number, include deaths\n",
        "S = np.array(areaPopulation)\n",
        "R = np.array([0,0,0,0,0,0])\n",
        "I = np.array([0,0,0,0,0,0])\n",
        "response = rqs.get(\"https://ncov.vncdc.gov.vn/v1/vietnam/province-type?start_time=\"+\"2019-05-01\"+\"&end_time=\"+initialDay).json()\n",
        "response = response['rows']\n",
        "for row in range(len(response)):\n",
        "  provinceName = response[row][\"tinh\"]\n",
        "  areaCode = areaCodeDictionary[provinceName]\n",
        "  R[areaCode - 1] += response[row][\"ca_khoi\"]+response[row][\"tu_vong\"]\n",
        "  I[areaCode - 1] += response[row][\"so_ca\"]\n",
        "  if response[row][\"so_ca\"] < response[row][\"ca_khoi\"]+response[row][\"tu_vong\"]:\n",
        "    print(response[row])\n",
        "S = S - I\n",
        "I = I - R\n",
        "print(\"Initial State\")\n",
        "print(\"S:\", S)\n",
        "print(\"I:\",I)\n",
        "print(\"R:\", R)\n",
        "\n",
        "#Graph:\n",
        "#Vertice data: SIR table\n",
        "#Edge weigth: flow_passenger\n",
        "\n",
        "\n",
        "#time that a infected begin spread\n",
        "beginSpread = 2\n",
        "\n",
        "#Average day detect a person infected\n",
        "detectDay = 5\n",
        "\n",
        "#spread_rate (number of infected contacts that becoming infected)\n",
        "#https://blog.vinbigdata.org/tim-hieu-ve-mot-mo-hinh-du-bao-dich-covid-19-tu-vu-han/?fbclid=IwAR3c5YWqwc6u3KjYj5u0mQP5arDrN52EXgOF2ihTqe1zJ96zMQo-9twG53s\n",
        "spreadRate = 2.3/(detectDay - beginSpread)\n",
        "#With our calculating, \n",
        "#       the spread rate of covid 19 in Vietnam from 2019 to 2021-07-05 is 2.3,\n",
        "#       but for credit purpose, we use 2.68\n",
        "\n",
        "#infected time is average in 14 day\n",
        "#https://thuvienphapluat.vn/van-ban/The-thao-Y-te/Quyet-dinh-1125-QD-BYT-2021-cham-soc-nguoi-benh-viem-duong-ho-hap-cap-do-vi-rut-SARS-CoV-2-464962.aspx\n",
        "#7 day to become severe illness, and 7 more day to recover\n",
        "#recover_rate (number of infected become recovered or death)\n",
        "recoverRate = 1/14\n",
        "\n",
        "Ss = np.array([S])\n",
        "Is = np.array([I])\n",
        "Rs = np.array([R])\n",
        "NewInfecteds = np.array([I])\n",
        "#for everyday calculate the change of SIR status in each region\n",
        "sdate = date(2021, 5, 27)   # start date\n",
        "edate = date(2021, 7, 5)   # end date\n",
        "delta = edate - sdate       # as timedelta\n",
        "for i in range(delta.days + 1):\n",
        "  day = sdate + timedelta(days=i)\n",
        "  #transmit passengers\n",
        "  for area_iter1 in range(5):\n",
        "    for area_iter2 in range(area_iter1+1, 6):\n",
        "      #probability of 1 people leaves the region area_iter1 and come to region area_iter2\n",
        "      onePersonProb = (flow_passenger[area_iter1, area_iter2]/2)/areaPopulation[area_iter1]\n",
        "      #count number leave region 1 and come to region 2\n",
        "      if I[area_iter1] > 0:\n",
        "        countILeave = np.random.binomial(I[area_iter1], onePersonProb)\n",
        "      else:\n",
        "        countILeave = 0\n",
        "      countRLeave = np.random.binomial(R[area_iter1], onePersonProb)\n",
        "      #probability of 1 people leaves the region area_iter2 and come to region area_iter1\n",
        "      onePersonProb = (flow_passenger[area_iter1, area_iter2]/2)/areaPopulation[area_iter2]\n",
        "      #count number come to region 1 from region 2\n",
        "      if I[area_iter2] > 0:\n",
        "        countICome = np.random.binomial(I[area_iter2], onePersonProb)\n",
        "      else:\n",
        "        countICome = 0\n",
        "      countRCome = np.random.binomial(R[area_iter2], onePersonProb)\n",
        "      #arrived\n",
        "      I[area_iter1] += countICome - countILeave\n",
        "      I[area_iter2] += countILeave - countICome\n",
        "      R[area_iter1] += countRCome - countRLeave\n",
        "      R[area_iter2] += countRLeave - countRCome\n",
        "      S[area_iter1] = areaPopulation[area_iter1] - I[area_iter1] - R[area_iter1]\n",
        "      S[area_iter2] = areaPopulation[area_iter2] - I[area_iter2] - R[area_iter2]\n",
        "  #SIR evolution\n",
        "  #for each region\n",
        "  for area in range(6):\n",
        "    if i < beginSpread:\n",
        "      newInfected = 0\n",
        "      recovered = 0\n",
        "    elif i < detectDay:\n",
        "      newInfected = spreadRate * S[area] / areaPopulation[area] * (Is[i-beginSpread, area])\n",
        "      #newInfected = spreadRate * S[area] / areaPopulation[area] * Is[i-5,area]\n",
        "      recovered = recoverRate * Is[i, area]\n",
        "    else:\n",
        "      newInfected = spreadRate * S[area] / areaPopulation[area] * (Is[i-beginSpread, area]-Is[i-detectDay, area])\n",
        "      recovered = recoverRate * Is[i, area]\n",
        "    #update\n",
        "    R[area] += recovered\n",
        "    I[area] += newInfected - recovered\n",
        "    S[area] = areaPopulation[area] - I[area] - R[area]\n",
        "  #add to trace of SIR through time\n",
        "  Ss = np.insert(Ss, len(Ss), S, axis=0)\n",
        "  Is = np.insert(Is, len(Is), I, axis=0)\n",
        "  Rs = np.insert(Rs, len(Rs), R, axis=0)\n",
        "print(Is)\n",
        "#plt.plot(range((edate - sdate).days + 1+1),Ss[:,4], label=\"Suspected\")\n",
        "plt.plot(range((edate - sdate).days + 1+1),Is[:,4], label=\"Infected\")\n",
        "plt.plot(range((edate - sdate).days + 1+1),Rs[:,4], label=\"Recovered\")\n",
        "plt.xlabel(\"days from start\")\n",
        "plt.ylabel(\"number of people\")\n",
        "plt.legend()\n",
        "plt.show()"
      ],
      "execution_count": 219,
      "outputs": [
        {
          "output_type": "stream",
          "text": [
            "Initial State\n",
            "S: [35653810 11008170  9350711  5939255 18390641 17290895]\n",
            "I: [871  10  23   0   7  48]\n",
            "R: [2839   56  950    0  460  198]\n",
            "[[   871     10     23      0      7     48]\n",
            " [   870     11     23      0      7     48]\n",
            " [   870     12     22      1      8     46]\n",
            " [  1475     18     38      0     12     79]\n",
            " [  2034     25     53      0     18    109]\n",
            " [  2554     32     65      0     25    135]\n",
            " [  2830     37     72      0     28    149]\n",
            " [  3521     44     89      0     34    185]\n",
            " [  4557     56    115      0     47    240]\n",
            " [  5269     67    132      0     56    275]\n",
            " [  6031     76    150      0     66    312]\n",
            " [  7131     90    177      0     79    371]\n",
            " [  8483    112    211      1     96    438]\n",
            " [  9792    130    244      0    118    503]\n",
            " [ 11049    152    277      1    137    570]\n",
            " [ 12711    180    317      2    163    653]\n",
            " [ 14677    211    368      1    194    751]\n",
            " [ 16622    243    418      2    231    849]\n",
            " [ 18662    283    470      3    271    950]\n",
            " [ 21056    329    531      4    318   1072]\n",
            " [ 23785    392    602      5    383   1209]\n",
            " [ 26629    446    676      6    446   1351]\n",
            " [ 29592    510    750      8    529   1494]\n",
            " [ 32937    596    839     12    624   1657]\n",
            " [ 36654    694    937     16    727   1841]\n",
            " [ 40540    792   1040     22    854   2026]\n",
            " [ 44608    905   1147     27   1004   2221]\n",
            " [ 49056   1052   1263     35   1159   2438]\n",
            " [ 53888   1213   1392     45   1344   2671]\n",
            " [ 58922   1385   1533     55   1563   2901]\n",
            " [ 64143   1584   1674     70   1809   3146]\n",
            " [ 69713   1813   1827     84   2086   3410]\n",
            " [ 75586   2095   2000    106   2401   3677]\n",
            " [ 81661   2372   2181    127   2759   3945]\n",
            " [ 87832   2692   2367    152   3163   4233]\n",
            " [ 94206   3072   2562    190   3602   4530]\n",
            " [100767   3489   2770    228   4104   4821]\n",
            " [107299   3955   2994    269   4671   5108]\n",
            " [113735   4473   3211    319   5294   5400]\n",
            " [120089   5047   3432    375   5989   5688]\n",
            " [126245   5707   3671    446   6747   5954]]\n"
          ],
          "name": "stdout"
        },
        {
          "output_type": "display_data",
          "data": {
            "image/png": "[encoded data removed]",
            "text/plain": [
              "<Figure size 432x288 with 1 Axes>"
            ]
          },
          "metadata": {
            "tags": [],
            "needs_background": "light"
          }
        }
      ]
    },
    {
      "cell_type": "code",
      "metadata": {
        "colab": {
          "base_uri": "https://localhost:8080/",
          "height": 348
        },
        "id": "cGbHgF7-XDB2",
        "outputId": "8f9ed3bb-0b67-4250-d6b0-b1415055e260"
      },
      "source": [
        "#initial state\n",
        "initialDay = \"2021-05-27\"\n",
        "#get recover number, include deaths\n",
        "S = np.array(areaPopulation)\n",
        "R = np.array([0,0,0,0,0,0])\n",
        "I = np.array([0,0,0,0,0,0])\n",
        "response = rqs.get(\"https://ncov.vncdc.gov.vn/v1/vietnam/province-type?start_time=\"+\"2019-05-01\"+\"&end_time=\"+initialDay).json()\n",
        "response = response['rows']\n",
        "for row in range(len(response)):\n",
        "  provinceName = response[row][\"tinh\"]\n",
        "  areaCode = areaCodeDictionary[provinceName]\n",
        "  R[areaCode - 1] += response[row][\"ca_khoi\"]+response[row][\"tu_vong\"]\n",
        "  I[areaCode - 1] += response[row][\"so_ca\"]\n",
        "  if response[row][\"so_ca\"] < response[row][\"ca_khoi\"]+response[row][\"tu_vong\"]:\n",
        "    print(response[row])\n",
        "S = S - I\n",
        "I = I - R\n",
        "print(\"Initial State\")\n",
        "print(\"S:\", S)\n",
        "print(\"I:\",I)\n",
        "print(\"R:\", R)\n",
        "\n",
        "#Graph:\n",
        "#Vertice data: SIR table\n",
        "#Edge weigth: flow_passenger\n",
        "\n",
        "#time that a infected begin spread\n",
        "beginSpread = 2\n",
        "\n",
        "#Average day detect a person infected\n",
        "detectDay = 5\n",
        "\n",
        "#spread_rate (number of infected contacts that becoming infected)\n",
        "#https://blog.vinbigdata.org/tim-hieu-ve-mot-mo-hinh-du-bao-dich-covid-19-tu-vu-han/?fbclid=IwAR3c5YWqwc6u3KjYj5u0mQP5arDrN52EXgOF2ihTqe1zJ96zMQo-9twG53s\n",
        "commonSpreadRate = 2.3/(detectDay - beginSpread)\n",
        "spreadRate = [commonSpreadRate] * 6\n",
        "spreadRateScale = np.array([[1500, 2], [7000, 1]])\n",
        "#With our calculating, \n",
        "#       the spread rate of covid 19 in Vietnam from 2019 to 2021-07-05 is 2.3,\n",
        "#       but for credit purpose, we use 2.68\n",
        "\n",
        "#infected time is average in 14 day\n",
        "#https://thuvienphapluat.vn/van-ban/The-thao-Y-te/Quyet-dinh-1125-QD-BYT-2021-cham-soc-nguoi-benh-viem-duong-ho-hap-cap-do-vi-rut-SARS-CoV-2-464962.aspx\n",
        "#7 day to become severe illness, and 7 more day to recover\n",
        "#recover_rate (number of infected become recovered or death)\n",
        "recoverRate = 1/14\n",
        "\n",
        "Ss = np.array([S])\n",
        "Is = np.array([I])\n",
        "Rs = np.array([R])\n",
        "NewInfecteds = np.array([I])\n",
        "#for everyday calculate the change of SIR status in each region\n",
        "sdate = date(2021, 5, 28)   # start date\n",
        "edate = date(2021, 7, 5)   # end date\n",
        "delta = edate - sdate       # as timedelta\n",
        "for i in range(delta.days + 1):\n",
        "  day = sdate + timedelta(days=i)\n",
        "  #transmit passengers\n",
        "  for area_iter1 in range(5):\n",
        "    for area_iter2 in range(area_iter1 + 1, 6):\n",
        "      #probability of 1 people leaves the region area_iter1 and come to region area_iter2\n",
        "      onePersonProb = (flow_passenger[area_iter1, area_iter2]/2)/areaPopulation[area_iter1]\n",
        "      #count number leave region 1 and come to region 2\n",
        "      if I[area_iter1] > 0:\n",
        "        countILeave = np.random.binomial(I[area_iter1], onePersonProb)\n",
        "      else:\n",
        "        countILeave = 0\n",
        "      countRLeave = np.random.binomial(R[area_iter1], onePersonProb)\n",
        "      #probability of 1 people leaves the region area_iter2 and come to region area_iter1\n",
        "      onePersonProb = (flow_passenger[area_iter1, area_iter2]/2)/areaPopulation[area_iter2]\n",
        "      #count number come to region 1 from region 2\n",
        "      if I[area_iter2] > 0:\n",
        "        countICome = np.random.binomial(I[area_iter2], onePersonProb)\n",
        "      else:\n",
        "        countICome = 0\n",
        "      countRCome = np.random.binomial(R[area_iter2], onePersonProb)\n",
        "      #arrived\n",
        "      I[area_iter1] += countICome - countILeave\n",
        "      I[area_iter2] += countILeave - countICome\n",
        "      R[area_iter1] += countRCome - countRLeave\n",
        "      R[area_iter2] += countRLeave - countRCome\n",
        "      S[area_iter1] = areaPopulation[area_iter1] - I[area_iter1] - R[area_iter1]\n",
        "      S[area_iter2] = areaPopulation[area_iter2] - I[area_iter2] - R[area_iter2]\n",
        "  #SIR evolution\n",
        "  NewInfecteds = np.insert(NewInfecteds, len(NewInfecteds), [0,0,0,0,0,0], axis=0)\n",
        "  #for each region\n",
        "  for area in range(6):\n",
        "    if i < beginSpread:\n",
        "      newInfected = 0\n",
        "      recovered = 0\n",
        "    elif i < detectDay:\n",
        "      newInfected = spreadRate[area] * S[area] / areaPopulation[area] * (Is[i-beginSpread, area])\n",
        "      #newInfected = spreadRatS[area] / areaPopulation[area] * Is[i-5,area]\n",
        "      recovered = recoverRate * Is[i, area]\n",
        "    else:\n",
        "      newInfected = spreadRate[area] * S[area] / areaPopulation[area] * (Is[i-beginSpread, area]-Is[i-detectDay, area])\n",
        "      recovered = recoverRate * Is[i, area]\n",
        "    if newInfected < 0:\n",
        "      newInfected = 0\n",
        "    if recovered < 0:\n",
        "      recovered = 0\n",
        "    #update\n",
        "    NewInfecteds[i, area] = newInfected\n",
        "    R[area] += recovered\n",
        "    I[area] += newInfected - recovered\n",
        "    S[area] = areaPopulation[area] - I[area] - R[area]\n",
        "    if I[area] > spreadRateScale[0, 0]:\n",
        "      spreadRate[area] = spreadRateScale[0,1] / (detectDay - beginSpread)\n",
        "    if I[area] > spreadRateScale[1, 0]:\n",
        "      spreadRate[area] = spreadRateScale[1,1] / (detectDay - beginSpread)\n",
        "  #add to trace of SIR through time\n",
        "  Ss = np.insert(Ss, len(Ss), S, axis=0)\n",
        "  Is = np.insert(Is, len(Is), I, axis=0)\n",
        "  Rs = np.insert(Rs, len(Rs), R, axis=0)\n",
        "\n",
        "#plt.plot(range((edate - sdate).days + 1+1),Ss[:,4], label=\"Suspected\")\n",
        "plt.plot(range((edate - sdate).days + 1+1),Is[:,4], label=\"Infected\")\n",
        "plt.plot(range((edate - sdate).days + 1+1),Rs[:,4], label=\"Recovered\")\n",
        "plt.xlabel(\"days from start\")\n",
        "plt.ylabel(\"number of people\")\n",
        "plt.legend()\n",
        "plt.show()"
      ],
      "execution_count": 271,
      "outputs": [
        {
          "output_type": "stream",
          "text": [
            "Initial State\n",
            "S: [35653810 11008170  9350711  5939255 18390641 17290895]\n",
            "I: [871  10  23   0   7  48]\n",
            "R: [2839   56  950    0  460  198]\n"
          ],
          "name": "stdout"
        },
        {
          "output_type": "display_data",
          "data": {
            "image/png": "[encoded data removed]",
            "text/plain": [
              "<Figure size 432x288 with 1 Axes>"
            ]
          },
          "metadata": {
            "tags": [],
            "needs_background": "light"
          }
        }
      ]
    },
    {
      "cell_type": "code",
      "metadata": {
        "colab": {
          "base_uri": "https://localhost:8080/",
          "height": 282
        },
        "id": "2jxjzo2aZkL4",
        "outputId": "e4564dd0-bd5c-46f5-e3c6-d56867eec84a"
      },
      "source": [
        "#build test data\n",
        "sdate = date(2021, 5, 27)   # start date\n",
        "edate = date(2021, 7, 5)   # end date\n",
        "delta = edate - sdate       # as timedelta\n",
        "print(delta.days)\n",
        "dailyCaseInArea5 = []\n",
        "for i in range(delta.days + 1):\n",
        "  day = sdate + timedelta(days=i)\n",
        "  dailyCaseInArea5.append(0)\n",
        "  for row in range(1, len(covid)):\n",
        "    provinceName = covid[row][1]\n",
        "    areaCode = areaCodeDictionary[provinceName]\n",
        "    if covid[row][2] == str(day) and areaCode == 5:\n",
        "      dailyCaseInArea5[i] += int(covid[row][3])\n",
        "\n",
        "plt.plot(range((edate - sdate).days + 1),NewInfecteds[:,4], label=\"Model Infected\")\n",
        "plt.plot(range((edate - sdate).days + 1),dailyCaseInArea5, label=\"Real Infected\")\n",
        "plt.legend()\n",
        "plt.show()"
      ],
      "execution_count": 272,
      "outputs": [
        {
          "output_type": "stream",
          "text": [
            "39\n"
          ],
          "name": "stdout"
        },
        {
          "output_type": "display_data",
          "data": {
            "image/png": "[encoded data removed]",
            "text/plain": [
              "<Figure size 432x288 with 1 Axes>"
            ]
          },
          "metadata": {
            "tags": [],
            "needs_background": "light"
          }
        }
      ]
    }
  ]
}